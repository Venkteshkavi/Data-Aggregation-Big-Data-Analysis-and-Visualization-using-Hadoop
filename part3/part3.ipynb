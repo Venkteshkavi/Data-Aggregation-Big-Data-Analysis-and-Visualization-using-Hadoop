{
 "cells": [
  {
   "cell_type": "markdown",
   "metadata": {},
   "source": [
    "Team Member 1 Name : Emmanuel Johnson<br>\n",
    "Team Member 1 UBID : egnanach<br>\n",
    "Team Member 1 PersonNumber : 50290792<br>\n",
    "Team Member 2 Name : Venktesh Kaviarasan<br>\n",
    "Team Member 2 UBID : venktesh<br>\n",
    "Team Member 2 PersonNumber : 50289400"
   ]
  },
  {
   "cell_type": "code",
   "execution_count": 1,
   "metadata": {},
   "outputs": [],
   "source": [
    "import sys\n",
    "import os\n",
    "import glob\n",
    "import csv\n",
    "import json\n",
    "import pandas as pd"
   ]
  },
  {
   "cell_type": "code",
   "execution_count": 107,
   "metadata": {},
   "outputs": [],
   "source": [
    "config = {\n",
    "    \"commoncrawl\":\"cc\",\n",
    "    \"twitter\":\"tw\",\n",
    "    \"nyt\":\"nyt\",\n",
    "    \"sm\":\"small\"\n",
    "}"
   ]
  },
  {
   "cell_type": "code",
   "execution_count": 3,
   "metadata": {},
   "outputs": [],
   "source": [
    "def getWordList(fileName, ftype):\n",
    "    mapperOutput = open(fileName,\"r\")\n",
    "    tupleList = list()\n",
    "    for line in mapperOutput.readlines():\n",
    "        split = line.split(\"\\t\")\n",
    "        if ftype == \"wc\":\n",
    "            tupleList.append((split[0], int(split[1])))\n",
    "        elif ftype == \"wcoc\":\n",
    "            tupleList.append((split[0].split(\":\")[0], split[0].split(\":\")[1], int(split[1])))\n",
    "    return tupleList"
   ]
  },
  {
   "cell_type": "code",
   "execution_count": 4,
   "metadata": {},
   "outputs": [],
   "source": [
    "def writeWordCsv(fileName, ftype, content):\n",
    "    with open(fileName, \"w\") as out:\n",
    "        csv_out = csv.writer(out)\n",
    "        if ftype == \"wc\":\n",
    "            csv_out.writerow(['word','count'])\n",
    "        elif ftype == \"wcoc\":\n",
    "            csv_out.writerow(['word1', 'word2', 'count'])\n",
    "        csv_out.writerows(content)"
   ]
  },
  {
   "cell_type": "code",
   "execution_count": 248,
   "metadata": {},
   "outputs": [],
   "source": [
    "datasize = \"bg\"\n",
    "source = \"commoncrawl\"\n",
    "topic = \"all\"\n",
    "otype = \"wcoc\"\n",
    "topN = 20"
   ]
  },
  {
   "cell_type": "code",
   "execution_count": 249,
   "metadata": {},
   "outputs": [],
   "source": [
    "if datasize != \"sm\":\n",
    "    if otype == \"wc\":\n",
    "        fn = source+\"/hadoopOutput/\"+config[source]+\"_\"+topic+\"_output/part-00000\"\n",
    "    else:\n",
    "        fn = source+\"/hadoopOutput/\"+config[source]+\"_\"+topic+\"_\"+otype+\"_output/part-00000\"\n",
    "else:\n",
    "    if otype == \"wc\":\n",
    "        fn = source+\"/hadoopOutput_small/\"+\"sm_\"+config[source]+\"_\"+topic+\"_output/part-00000\"\n",
    "    else:\n",
    "        fn = source+\"/hadoopOutput_small/\"+\"sm_\"+config[source]+\"_\"+topic+\"_\"+otype+\"_output/part-00000\"\n",
    "tupleList = getWordList(fn, otype)"
   ]
  },
  {
   "cell_type": "code",
   "execution_count": 250,
   "metadata": {},
   "outputs": [],
   "source": [
    "if otype == \"wc\":\n",
    "    sortedList = sorted(tupleList, key=lambda x: x[1], reverse=True)\n",
    "else:\n",
    "    sortedList = sorted(tupleList, key=lambda x: x[2], reverse=True)"
   ]
  },
  {
   "cell_type": "code",
   "execution_count": 251,
   "metadata": {},
   "outputs": [],
   "source": [
    "topWords = sortedList[:topN]\n",
    "if datasize != \"sm\":\n",
    "    writeWordCsv(source+\"/\"+config[source]+\"_\"+topic+\"_\"+otype+\".csv\", otype, topWords)\n",
    "else:\n",
    "    writeWordCsv(source+\"/\"+\"sm_\"+config[source]+\"_\"+topic+\"_\"+otype+\".csv\", otype, topWords)"
   ]
  },
  {
   "cell_type": "code",
   "execution_count": null,
   "metadata": {},
   "outputs": [],
   "source": []
  },
  {
   "cell_type": "code",
   "execution_count": null,
   "metadata": {},
   "outputs": [],
   "source": []
  }
 ],
 "metadata": {
  "kernelspec": {
   "display_name": "Python 3",
   "language": "python",
   "name": "python3"
  },
  "language_info": {
   "codemirror_mode": {
    "name": "ipython",
    "version": 3
   },
   "file_extension": ".py",
   "mimetype": "text/x-python",
   "name": "python",
   "nbconvert_exporter": "python",
   "pygments_lexer": "ipython3",
   "version": "3.7.2"
  }
 },
 "nbformat": 4,
 "nbformat_minor": 2
}
